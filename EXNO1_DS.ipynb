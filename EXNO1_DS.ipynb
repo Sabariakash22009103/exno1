{
  "cells": [
    {
      "cell_type": "code",
      "execution_count": 1,
      "metadata": {
        "id": "2n5hINjQjg0I"
      },
      "outputs": [],
      "source": [
        "import pandas as pd"
      ]
    },
    {
      "cell_type": "code",
      "execution_count": null,
      "metadata": {
        "id": "ekd2--UNjzBH"
      },
      "outputs": [],
      "source": [
        "#READ CSV FILE HERE\n",
        "df=pd.read_csv(\"/DS INPUT - Sheet1.csv\")\n",
        "df"
      ]
    },
    {
      "cell_type": "code",
      "execution_count": null,
      "metadata": {
        "id": "aO664SaXj_Kh"
      },
      "outputs": [],
      "source": [
        "#DISPLAY THE INFORMATION ABOUT CSV AND RUN THE BASIC DATA ANALYSIS FUNCTIONS\n",
        "df.head()\n",
        "df.tail()\n",
        "df.describe()\n",
        "df.info()"
      ]
    },
    {
      "cell_type": "code",
      "execution_count": null,
      "metadata": {
        "id": "TEJVe1oJkTOn"
      },
      "outputs": [],
      "source": [
        "#CHECK OUT NULL VALUES IN DATA SET USING FUNCTION\n",
        "df.isnull()"
      ]
    },
    {
      "cell_type": "code",
      "execution_count": null,
      "metadata": {
        "id": "lrWtOZnOkbLw"
      },
      "outputs": [],
      "source": [
        "#DISPLAY THE SUM ON NULL VALUES IN EACH ROWS\n",
        "df.isnull().sum()"
      ]
    },
    {
      "cell_type": "code",
      "execution_count": null,
      "metadata": {
        "id": "x6UvnVeqk-FU"
      },
      "outputs": [],
      "source": [
        "#DROP NULL VALUES\n",
        "df.dropna()"
      ]
    },
    {
      "cell_type": "code",
      "execution_count": null,
      "metadata": {
        "id": "uD30INvylADq"
      },
      "outputs": [],
      "source": [
        "#FILL NULL VALUES WITH CONSTANT VALUE \"O\"\n",
        "df['TOTAL'].fillna(value=0)"
      ]
    },
    {
      "cell_type": "code",
      "execution_count": null,
      "metadata": {
        "id": "ElyTR_kMlKN_"
      },
      "outputs": [],
      "source": [
        "#FILL NULL VALUES WITH ffill or bfill METHOD\n",
        "df.fillna(method='ffill')"
      ]
    },
    {
      "cell_type": "code",
      "execution_count": null,
      "metadata": {
        "id": "J3j5JMTPlpMs"
      },
      "outputs": [],
      "source": [
        "#CALCULATE MEAN VALUE OF A COLUMN AND FILL IT WITH NULL VALUES\n",
        "df['TOTAL'].fillna(value=df['TOTAL'].mean())"
      ]
    },
    {
      "cell_type": "code",
      "execution_count": null,
      "metadata": {
        "id": "DDfELIRflWsN"
      },
      "outputs": [],
      "source": [
        "#DROP NULL VALUES\n",
        "df.dropna()"
      ]
    },
    {
      "cell_type": "code",
      "execution_count": null,
      "metadata": {
        "id": "iSh4e4qhlxKX"
      },
      "outputs": [],
      "source": [
        "import pandas as pd\n",
        "import seaborn as sns"
      ]
    },
    {
      "cell_type": "code",
      "execution_count": null,
      "metadata": {
        "id": "06nuEZyumfvO"
      },
      "outputs": [],
      "source": [
        "age=[1,3,28,27,25,92,30,39,40,50,26,24,29,94]\n",
        "af=pd.DataFrame(age)\n",
        "af"
      ]
    },
    {
      "cell_type": "code",
      "execution_count": null,
      "metadata": {
        "id": "WjmFpMJOmkcg"
      },
      "outputs": [],
      "source": [
        "#USE BOXPLOT FUNCTION HERE TO DETECT OUTLIER\n",
        "sns.boxplot(data=af)"
      ]
    },
    {
      "cell_type": "code",
      "execution_count": null,
      "metadata": {
        "id": "ORTl2Iv5muIV"
      },
      "outputs": [],
      "source": [
        "#PERFORM IQR METHOD AND DETECT OUTLIER VALUES\n",
        "q1=np.percentile(af,25)\n",
        "q2=np.percentile(af,50)\n",
        "q3=np.percentile(af,75)\n",
        "IQR=q3-q1\n",
        "lower_bound=q1 - 1.5 * IQR\n",
        "upper_bound=q3 + 1.5 * IQR\n",
        "outliers=[x for x in age if x < lower_bound or x > upper_bound]"
      ]
    },
    {
      "cell_type": "code",
      "execution_count": null,
      "metadata": {
        "id": "wGJfyBhQm1_C"
      },
      "outputs": [],
      "source": [
        "#REMOVE OUTLIERS\n",
        "aq=af[(af>=lower_bound)&(af<=upper_bound)]\n",
        "aq.dropna()"
      ]
    },
    {
      "cell_type": "code",
      "execution_count": null,
      "metadata": {
        "id": "uo-X2gZ9nCXz"
      },
      "outputs": [],
      "source": [
        "#USE BOXPLOT FUNCTION HERE TO CHECK OUTLIER IS REMOVED\n",
        "sns.boxplot(data=aq)"
      ]
    },
    {
      "cell_type": "code",
      "execution_count": null,
      "metadata": {
        "id": "0Qs-5pjBnstE"
      },
      "outputs": [],
      "source": [
        "from scipy import stats #STATS METHOD IS USED TO IMPLEMENT Z SCORE METHOD"
      ]
    },
    {
      "cell_type": "code",
      "execution_count": null,
      "metadata": {
        "id": "hfmvZRVEnOJ4"
      },
      "outputs": [],
      "source": [
        "data=[1,12,15,18,21,24,27,30,33,36,39,42,45,48,51,54,57,60,63,66,69,72,75,78,81,84,87,90,93,96,99,158]\n",
        "df=pd.DataFrame(data)"
      ]
    },
    {
      "cell_type": "code",
      "execution_count": null,
      "metadata": {
        "id": "pdGFPLTTnOvd"
      },
      "outputs": [],
      "source": [
        "#USE BOXPLOT FUNCTION HERE TO DETECT OUTLIER\n",
        "sns.boxplot(data=df)"
      ]
    },
    {
      "cell_type": "code",
      "execution_count": null,
      "metadata": {
        "id": "-11Af00_nTT-"
      },
      "outputs": [],
      "source": [
        "#PERFORM Z SCORE METHOD AND DETECT OUTLIER VALUES\n",
        "z=np.abs(stats.zscore(df))\n",
        "print(df[z['weight']>3])"
      ]
    },
    {
      "cell_type": "code",
      "execution_count": null,
      "metadata": {
        "id": "1XlGC0YZnWth"
      },
      "outputs": [],
      "source": [
        "#REMOVE OUTLIERS\n",
        "z.dropna()"
      ]
    },
    {
      "cell_type": "code",
      "execution_count": null,
      "metadata": {
        "id": "xHlAQ3O5ncsp"
      },
      "outputs": [],
      "source": [
        "#USE BOXPLOT FUNCTION HERE TO CHECK OUTLIER IS REMOVED\n",
        "sns.boxplot(data=df)"
      ]
    }
  ],
  "metadata": {
    "colab": {
      "provenance": []
    },
    "kernelspec": {
      "display_name": "Python 3",
      "name": "python3"
    },
    "language_info": {
      "name": "python"
    }
  },
  "nbformat": 4,
  "nbformat_minor": 0
}
